{
  "nbformat": 4,
  "nbformat_minor": 0,
  "metadata": {
    "colab": {
      "provenance": [],
      "authorship_tag": "ABX9TyM/oPHaZ7L7AFvgKnHX5iLg",
      "include_colab_link": true
    },
    "kernelspec": {
      "name": "python3",
      "display_name": "Python 3"
    },
    "language_info": {
      "name": "python"
    }
  },
  "cells": [
    {
      "cell_type": "markdown",
      "metadata": {
        "id": "view-in-github",
        "colab_type": "text"
      },
      "source": [
        "<a href=\"https://colab.research.google.com/github/jx-dohwan/Preparing_for_coding_test/blob/main/2_%EC%9E%AC%EA%B7%80%EC%9A%A9%EB%B2%95.ipynb\" target=\"_parent\"><img src=\"https://colab.research.google.com/assets/colab-badge.svg\" alt=\"Open In Colab\"/></a>"
      ]
    },
    {
      "cell_type": "markdown",
      "source": [
        "# 재귀용법\n",
        "> 고급 정렬 알고리즘에서 재귀 용법을 사용하므로, 고급 정렬 알고리즘을 익히기 전에 재귀 용법을 먼저 익히기로 한다."
      ],
      "metadata": {
        "id": "PvtuakPSkL6u"
      }
    },
    {
      "cell_type": "markdown",
      "source": [
        "## 2. 재귀용법\n",
        "- 함수 안에서 동일한 함수를 호출하느 형태\n",
        "- 여러 알고리즘 작성 시 사용되므로, 익숙해져야 함"
      ],
      "metadata": {
        "id": "fNZIDutQkXbX"
      }
    },
    {
      "cell_type": "code",
      "execution_count": 1,
      "metadata": {
        "id": "h8pqzdoojq5l"
      },
      "outputs": [],
      "source": [
        "def factorial(num):\n",
        "  if num > 1:\n",
        "    return num * factorial(num-1)\n",
        "  else:\n",
        "    return num"
      ]
    },
    {
      "cell_type": "code",
      "source": [
        "for num in range(10):\n",
        "  print(factorial(num))"
      ],
      "metadata": {
        "colab": {
          "base_uri": "https://localhost:8080/"
        },
        "id": "4XQp_kJ_lMZU",
        "outputId": "cb669b1c-5dbd-444c-b38e-c46b79635638"
      },
      "execution_count": 3,
      "outputs": [
        {
          "output_type": "stream",
          "name": "stdout",
          "text": [
            "0\n",
            "1\n",
            "2\n",
            "6\n",
            "24\n",
            "120\n",
            "720\n",
            "5040\n",
            "40320\n",
            "362880\n"
          ]
        }
      ]
    },
    {
      "cell_type": "code",
      "source": [
        "def factorial(num):\n",
        "  if num <= 1:\n",
        "    return num\n",
        "  return_value = num * factorial(num-1)\n",
        "  return return_value"
      ],
      "metadata": {
        "id": "hiqEmf4MmqZ7"
      },
      "execution_count": 9,
      "outputs": []
    },
    {
      "cell_type": "code",
      "source": [
        "for num in range(10):\n",
        "  print(factorial(num))"
      ],
      "metadata": {
        "colab": {
          "base_uri": "https://localhost:8080/"
        },
        "id": "KCP6Pd1Rm13s",
        "outputId": "00b923cc-2fd2-46da-b949-51b438de7323"
      },
      "execution_count": 10,
      "outputs": [
        {
          "output_type": "stream",
          "name": "stdout",
          "text": [
            "0\n",
            "1\n",
            "2\n",
            "6\n",
            "24\n",
            "120\n",
            "720\n",
            "5040\n",
            "40320\n",
            "362880\n"
          ]
        }
      ]
    },
    {
      "cell_type": "markdown",
      "source": [
        "### 시간 복잡도와 공간 복잡도\n",
        "- factorial(n)은 n-1번의 factorial() 함수르 호출해서 곱셈을 함\n",
        "  - 일종의 n-1번 반복문을 호출하는 것과 동일\n",
        "  - factorial()함수를 호출할때마다, 지역변수 n이 생성됨\n",
        "- 시간 복잡도/공간 복잡도는 O(n-1)이므로 결국, 둘 다 O(n)"
      ],
      "metadata": {
        "id": "M9_qW5YBleAM"
      }
    },
    {
      "cell_type": "markdown",
      "source": [
        "## 3. 재귀호출의 일반적인 형태"
      ],
      "metadata": {
        "id": "nIChiSRzl-0G"
      }
    },
    {
      "cell_type": "code",
      "source": [
        "# 형태1\n",
        "def function(입력):\n",
        "  if 입력 > 일정값:#입력이 일정 값 이상이면\n",
        "    return function(입력-1) # 입력보다 작은 값\n",
        "  else:\n",
        "    return 일정값 # 재귀호출 종료"
      ],
      "metadata": {
        "id": "k5IMWkB7lPKJ"
      },
      "execution_count": 5,
      "outputs": []
    },
    {
      "cell_type": "code",
      "source": [
        "# 형태2\n",
        "def function(입력):\n",
        "  if 입력 <= 일정값:\n",
        "    return 일정값, 입력값\n",
        "  function(입력보다작은값)\n",
        "  return 결과값"
      ],
      "metadata": {
        "id": "W0N-RbEtmU6j"
      },
      "execution_count": 8,
      "outputs": []
    },
    {
      "cell_type": "markdown",
      "source": [
        "## 4. 재귀용법을 활용한 프로그래밍 연습"
      ],
      "metadata": {
        "id": "4e6Hp_Q0oZbR"
      }
    },
    {
      "cell_type": "code",
      "source": [
        "def multiple(num):\n",
        "  return_value = 1\n",
        "  for index in range(1, num+1):\n",
        "    return_value = return_value * index\n",
        "  return return_value"
      ],
      "metadata": {
        "id": "zYB7iqNxmiJ8"
      },
      "execution_count": 12,
      "outputs": []
    },
    {
      "cell_type": "code",
      "source": [
        "def multiple(num):\n",
        "  if num <= 1:\n",
        "    return num\n",
        "  return num * multiple(num-1)"
      ],
      "metadata": {
        "id": "6xGN-KvHovrS"
      },
      "execution_count": 13,
      "outputs": []
    },
    {
      "cell_type": "code",
      "source": [
        "multiple(10)"
      ],
      "metadata": {
        "colab": {
          "base_uri": "https://localhost:8080/"
        },
        "id": "H0c1HC-Io4jh",
        "outputId": "aa577e98-e824-4f77-c7f6-34fb981b5584"
      },
      "execution_count": 14,
      "outputs": [
        {
          "output_type": "execute_result",
          "data": {
            "text/plain": [
              "3628800"
            ]
          },
          "metadata": {},
          "execution_count": 14
        }
      ]
    },
    {
      "cell_type": "markdown",
      "source": [
        "숫자가 들어있는 리스트가 주어졌을 때, 리스트의 합을 리턴하는 함수"
      ],
      "metadata": {
        "id": "9jLwuHpZpEG9"
      }
    },
    {
      "cell_type": "code",
      "source": [
        "import random\n",
        "data = random.sample(range(100),10)\n",
        "data"
      ],
      "metadata": {
        "colab": {
          "base_uri": "https://localhost:8080/"
        },
        "id": "wrMxJ20yph_y",
        "outputId": "16ccbf31-bad5-4851-ec32-0a5f07696f43"
      },
      "execution_count": 15,
      "outputs": [
        {
          "output_type": "execute_result",
          "data": {
            "text/plain": [
              "[9, 55, 89, 95, 42, 17, 8, 59, 35, 38]"
            ]
          },
          "metadata": {},
          "execution_count": 15
        }
      ]
    },
    {
      "cell_type": "code",
      "source": [
        "def sum_list(data):\n",
        "  if len(data) <= 1:\n",
        "    return data[0]\n",
        "  return data[0] + sum_list(data[1:])"
      ],
      "metadata": {
        "id": "eqLYD1dSo5bw"
      },
      "execution_count": 16,
      "outputs": []
    },
    {
      "cell_type": "code",
      "source": [
        "sum_list(data)"
      ],
      "metadata": {
        "colab": {
          "base_uri": "https://localhost:8080/"
        },
        "id": "9AXpf_EPqFtD",
        "outputId": "78356820-a8a7-4244-9bf0-52ba7e1f5f93"
      },
      "execution_count": 17,
      "outputs": [
        {
          "output_type": "execute_result",
          "data": {
            "text/plain": [
              "447"
            ]
          },
          "metadata": {},
          "execution_count": 17
        }
      ]
    },
    {
      "cell_type": "code",
      "source": [],
      "metadata": {
        "id": "1PyY4xSWqHC4"
      },
      "execution_count": null,
      "outputs": []
    }
  ]
}