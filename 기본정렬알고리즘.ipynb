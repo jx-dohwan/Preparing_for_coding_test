{
  "nbformat": 4,
  "nbformat_minor": 0,
  "metadata": {
    "colab": {
      "name": "기본정렬알고리즘.ipynb",
      "provenance": [],
      "authorship_tag": "ABX9TyNYda5kWHR7FnxFmsEfVTg3",
      "include_colab_link": true
    },
    "kernelspec": {
      "name": "python3",
      "display_name": "Python 3"
    },
    "language_info": {
      "name": "python"
    }
  },
  "cells": [
    {
      "cell_type": "markdown",
      "metadata": {
        "id": "view-in-github",
        "colab_type": "text"
      },
      "source": [
        "<a href=\"https://colab.research.google.com/github/jx-dohwan/Preparing_for_coding_test/blob/main/%EA%B8%B0%EB%B3%B8%EC%A0%95%EB%A0%AC%EC%95%8C%EA%B3%A0%EB%A6%AC%EC%A6%98.ipynb\" target=\"_parent\"><img src=\"https://colab.research.google.com/assets/colab-badge.svg\" alt=\"Open In Colab\"/></a>"
      ]
    },
    {
      "cell_type": "markdown",
      "source": [
        "https://pythontutor.com/"
      ],
      "metadata": {
        "id": "Xoym9oAD8WGg"
      }
    },
    {
      "cell_type": "markdown",
      "source": [
        "## 2. 버블정렬\n",
        "- 두 인접한 데이터를 비교해서, 앞에 있는 데이터가 뒤에 있는 데이터보다 크면 자리를 바꾸는 정렬 알고리즘\n",
        "> 데이터 길이가 2이면 조건체크는 1번\n",
        "> <br>데이터 길이가 3이면 조건체크는 2번\n",
        "> <br>데이터 길이가 4이면 조건체크는 3번\n",
        "> - 즉, 데이터 길이의 -1 만큼 turn을 한다.\n",
        "> - 첫번째 턴은 가장 높은 녀석이 무조건 맨뒤에 들어아게 되어있다. 즉, 두번째 턴에서 맨 끝값은 비교할 필요가 없는 것이다. 이런식으로 한칸 한칸씩 줄여나간다.\n",
        "> - 패턴이 보일때까지 체크 -> 문장화 -> 코드화 -> 최적화\n",
        "> - swap가 한 번 이라도 일어나지 않았다면 돌리지 않는다.\n",
        "> - 더 할게 있는데 조금 놓친다."
      ],
      "metadata": {
        "id": "YQW-BQen2nth"
      }
    },
    {
      "cell_type": "code",
      "execution_count": null,
      "metadata": {
        "id": "5k_lxWi-1nE6"
      },
      "outputs": [],
      "source": [
        "def bubblesort(data):\n",
        "  for index in range(len(data)-1):\n",
        "    swap = False\n",
        "    for index2 in range(len(data)-index-1):\n",
        "      if data[index2] > data[index2+1]:\n",
        "        data[index2], data[index2+1] = data[index2+1], data[index2]\n",
        "        swap = True\n",
        "\n",
        "    if swap == False:\n",
        "      break\n",
        "  return data"
      ]
    },
    {
      "cell_type": "code",
      "source": [
        "import random\n",
        "\n",
        "\n",
        "data_list = random.sample(range(100),50)\n",
        "print(bubblesort(data_list))"
      ],
      "metadata": {
        "colab": {
          "base_uri": "https://localhost:8080/"
        },
        "id": "xnagQt0Z7EzJ",
        "outputId": "14fa0d0f-5d6a-4c6d-f8e3-c42a2a6a4d22"
      },
      "execution_count": null,
      "outputs": [
        {
          "output_type": "stream",
          "name": "stdout",
          "text": [
            "[0, 3, 5, 6, 7, 8, 11, 13, 14, 15, 16, 21, 22, 23, 24, 26, 30, 33, 41, 45, 47, 50, 53, 54, 55, 57, 59, 60, 63, 69, 71, 72, 73, 74, 76, 78, 79, 81, 85, 86, 87, 88, 90, 91, 92, 94, 96, 97, 98, 99]\n"
          ]
        }
      ]
    },
    {
      "cell_type": "markdown",
      "source": [
        "- 반복문이 두개, O(n^2)\n",
        "  - 최악의 경우, n*(n-1)/2\n",
        "- 완전 정렬이 되어 있는 상태라면 O(n) "
      ],
      "metadata": {
        "id": "ssRjy9Vu70LL"
      }
    },
    {
      "cell_type": "markdown",
      "source": [
        "## 3.삽입정렬\n",
        "- 두번째 인덱스에서 시작하여 앞에것과 비교함\n",
        "- 비교하고 바로 바꾸지 않고 끝까지 비교한다음에 자리를 바꿈\n",
        "- 특정 자리에 삽입한다고 해서 삽입정렬이라고 한다."
      ],
      "metadata": {
        "id": "b-m6shf2-FyR"
      }
    },
    {
      "cell_type": "code",
      "execution_count": null,
      "metadata": {
        "id": "Fwc0CrsY931d"
      },
      "outputs": [],
      "source": [
        "for index in range(10, 1 -1):\n",
        "  index"
      ]
    },
    {
      "cell_type": "code",
      "source": [
        "def insertion_sort(data):\n",
        "  for index in range(len(data) -1):\n",
        "    for index2 in range(index + 1, 0 , -1):\n",
        "      if data[index2] < data[index2-1]:\n",
        "        data[index2], data[index2-1] = data[index2-1], data[index2]\n",
        "      else:\n",
        "        break\n",
        "  return data\n"
      ],
      "metadata": {
        "id": "3sVHhSFyAiOc"
      },
      "execution_count": null,
      "outputs": []
    },
    {
      "cell_type": "code",
      "source": [
        "import random\n",
        "\n",
        "data_list = random.sample(range(100),50)\n",
        "print(insertion_sort(data_list))"
      ],
      "metadata": {
        "colab": {
          "base_uri": "https://localhost:8080/"
        },
        "id": "0AL7YL0fCEWp",
        "outputId": "4fdf1a5b-30bb-4c05-efbe-538b3a2e3678"
      },
      "execution_count": null,
      "outputs": [
        {
          "output_type": "stream",
          "name": "stdout",
          "text": [
            "[2, 3, 5, 7, 8, 9, 11, 13, 14, 16, 17, 19, 20, 21, 24, 26, 29, 30, 35, 36, 40, 41, 43, 44, 46, 53, 55, 56, 57, 61, 63, 65, 71, 73, 74, 75, 77, 78, 79, 80, 83, 85, 89, 90, 91, 92, 93, 94, 97, 98]\n"
          ]
        }
      ]
    },
    {
      "cell_type": "markdown",
      "source": [
        "- 알고리즘 분석\n",
        "  - 반복문이 두개 O(n^2)\n",
        "  - 최악의 경우 n*(n-1)/w\n",
        "  - 완전 정렬이 되어있는 상태라면 최선은 O(n)"
      ],
      "metadata": {
        "id": "cmHgU_jSCc7g"
      }
    },
    {
      "cell_type": "code",
      "source": [],
      "metadata": {
        "id": "UOwA1ldUCKYz"
      },
      "execution_count": null,
      "outputs": []
    }
  ]
}